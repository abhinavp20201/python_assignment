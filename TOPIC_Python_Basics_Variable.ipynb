{
  "nbformat": 4,
  "nbformat_minor": 0,
  "metadata": {
    "colab": {
      "provenance": []
    },
    "kernelspec": {
      "name": "python3",
      "display_name": "Python 3"
    },
    "language_info": {
      "name": "python"
    }
  },
  "cells": [
    {
      "cell_type": "code",
      "execution_count": null,
      "metadata": {
        "colab": {
          "base_uri": "https://localhost:8080/"
        },
        "id": "gIDMbcmt5eDX",
        "outputId": "b3131703-1bcc-41de-9065-5386f4b60145"
      },
      "outputs": [
        {
          "output_type": "stream",
          "name": "stdout",
          "text": [
            "Enter the value of x: 10\n",
            "Enter the value of y: 5\n",
            "Value of x after swapping:  5\n",
            "Value of y after swapping:  10\n"
          ]
        }
      ],
      "source": [
        "#1. Declare two variables, `x` and `y`, and assign them integer values. Swap the values of these variables without using any temporary variable.\n",
        "x=int(input(\"Enter the value of x: \"))\n",
        "y=int(input(\"Enter the value of y: \"))\n",
        "x=x+y\n",
        "y=x-y\n",
        "x=x-y\n",
        "print(\"Value of x after swapping: \",x)\n",
        "print(\"Value of y after swapping: \",y)\n"
      ]
    },
    {
      "cell_type": "code",
      "source": [
        "#2. Create a program that calculates the area of a rectangle. Take the length and width as inputs from the user and store them in variables. Calculate and display the area.\n",
        "len = int(input(\"Enter the length of the rectangle: \"))\n",
        "wid = int(input(\"Enter the width of the rectangle: \"))\n",
        "area = len*wid\n",
        "print(\"Area: \",area)"
      ],
      "metadata": {
        "colab": {
          "base_uri": "https://localhost:8080/"
        },
        "id": "npyEbQmxCPeh",
        "outputId": "b0e56e5a-82dd-4bca-935f-4311d441b0c6"
      },
      "execution_count": null,
      "outputs": [
        {
          "output_type": "stream",
          "name": "stdout",
          "text": [
            "Enter the length of the rectangle: 4\n",
            "Enter the width of the rectangle: 2\n",
            "Area:  8\n"
          ]
        }
      ]
    },
    {
      "cell_type": "code",
      "source": [
        "#3. Write a Python program that converts temperatures from Celsius to Fahrenheit.Take the temperature in Celsius as input, store it in a variable, convert it to Fahrenheit, and display the result.\n",
        "cel = int(input(\"Enter the temperature in celcius: \"))\n",
        "fahren = (9/5)*cel+32\n",
        "print(\"Temperature in Fahrenheit: \",fahren)"
      ],
      "metadata": {
        "colab": {
          "base_uri": "https://localhost:8080/"
        },
        "id": "FzsIItEFCeyj",
        "outputId": "091f32d6-7112-460a-88fd-78c835e182c7"
      },
      "execution_count": null,
      "outputs": [
        {
          "output_type": "stream",
          "name": "stdout",
          "text": [
            "Enter the temperature in celcius: 100\n",
            "Temperature in Fahrenheit:  212.0\n"
          ]
        }
      ]
    },
    {
      "cell_type": "code",
      "source": [],
      "metadata": {
        "id": "pIzDmEIkCwOt"
      },
      "execution_count": null,
      "outputs": []
    }
  ]
}