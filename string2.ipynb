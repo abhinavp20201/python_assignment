{
  "nbformat": 4,
  "nbformat_minor": 0,
  "metadata": {
    "colab": {
      "provenance": [],
      "authorship_tag": "ABX9TyM7bY4K6RT6gveaM1Sj9H3X",
      "include_colab_link": true
    },
    "kernelspec": {
      "name": "python3",
      "display_name": "Python 3"
    },
    "language_info": {
      "name": "python"
    }
  },
  "cells": [
    {
      "cell_type": "markdown",
      "metadata": {
        "id": "view-in-github",
        "colab_type": "text"
      },
      "source": [
        "<a href=\"https://colab.research.google.com/github/abhinavp20201/python_assignment/blob/main/string2.ipynb\" target=\"_parent\"><img src=\"https://colab.research.google.com/assets/colab-badge.svg\" alt=\"Open In Colab\"/></a>"
      ]
    },
    {
      "cell_type": "code",
      "execution_count": null,
      "metadata": {
        "colab": {
          "base_uri": "https://localhost:8080/"
        },
        "id": "_XGyBUTeGUIx",
        "outputId": "9e1b9c45-cabf-4f22-9b9c-bc97b10b3b03"
      },
      "outputs": [
        {
          "output_type": "stream",
          "name": "stdout",
          "text": [
            "Enter a string: hello \n",
            " olleh\n"
          ]
        }
      ],
      "source": [
        "#1. Write a program to reverse a string.\n",
        "txt=input(\"Enter a string: \")\n",
        "rev_txt = txt[::-1]\n",
        "print(rev_txt)\n"
      ]
    },
    {
      "cell_type": "code",
      "source": [
        "#2. Check if a string is a palindrome.\n",
        "txt = input(\"Enter a string: \")\n",
        "rev = ''.join(reversed(txt))\n",
        "if txt == rev:\n",
        "  print(\"String is a pallindrome\")\n",
        "else:\n",
        "  print(\"String is not a pallindrome\")"
      ],
      "metadata": {
        "colab": {
          "base_uri": "https://localhost:8080/"
        },
        "id": "HFjD5dHBGi4g",
        "outputId": "fa395a54-52ae-4f67-8610-591f70eac29e"
      },
      "execution_count": null,
      "outputs": [
        {
          "output_type": "stream",
          "name": "stdout",
          "text": [
            "Enter a string: malayalam\n",
            "String is a pallindrome\n"
          ]
        }
      ]
    },
    {
      "cell_type": "code",
      "source": [
        "#3. Convert a string to uppercase.\n",
        "txt = input(\"Enter a string: \")\n",
        "print(\"string in Uppercase: \",txt.upper())"
      ],
      "metadata": {
        "colab": {
          "base_uri": "https://localhost:8080/"
        },
        "id": "n9kz7k0jGtfx",
        "outputId": "e7a05fc5-d22a-401e-b74d-beee64edba0a"
      },
      "execution_count": null,
      "outputs": [
        {
          "output_type": "stream",
          "name": "stdout",
          "text": [
            "Enter a string: hello\n",
            "string in Uppercase:  HELLO\n"
          ]
        }
      ]
    },
    {
      "cell_type": "code",
      "source": [
        "#4. Convert a string to lowercase.\n",
        "txt = input(\"Enter a string: \")\n",
        "print(\"string in Uppercase: \",txt.lower())\n"
      ],
      "metadata": {
        "colab": {
          "base_uri": "https://localhost:8080/"
        },
        "id": "ZgghOCuLG19I",
        "outputId": "2572b8f9-198b-4a85-9cbf-5be66ef5e194"
      },
      "execution_count": null,
      "outputs": [
        {
          "output_type": "stream",
          "name": "stdout",
          "text": [
            "Enter a string: HELLO\n",
            "string in Uppercase:  hello\n"
          ]
        }
      ]
    },
    {
      "cell_type": "code",
      "source": [
        "#5. Count the number of vowels in a string.\n",
        "txt = input(\"Enter a string: \")\n",
        "count=0\n",
        "vowels = set(\"aeiouAEIOU\")\n",
        "for char in txt:\n",
        "  if char in vowels:\n",
        "    count+=1\n",
        "print(\"Count of vowels: \",count)"
      ],
      "metadata": {
        "colab": {
          "base_uri": "https://localhost:8080/"
        },
        "id": "WAhAPLDlG7N-",
        "outputId": "cf0843f8-022a-4d9f-cf97-ddfb2bd7759a"
      },
      "execution_count": null,
      "outputs": [
        {
          "output_type": "stream",
          "name": "stdout",
          "text": [
            "Enter a string: Helloworld\n",
            "Count of vowels:  3\n"
          ]
        }
      ]
    },
    {
      "cell_type": "code",
      "source": [
        "#6. Count the number of consonants in a string.\n",
        "\n",
        "txt = input(\"Enter a string: \")\n",
        "count=0\n",
        "vowels = set(\"aeiouAEIOU\")\n",
        "for char in txt:\n",
        "  if char not in vowels and char != \" \":\n",
        "    count+=1\n",
        "print(\"Count of consonants: \",count)"
      ],
      "metadata": {
        "colab": {
          "base_uri": "https://localhost:8080/"
        },
        "id": "2AfkO6VyHEIo",
        "outputId": "c6d8c4d3-9efc-43ee-ca88-9134fcfe883a"
      },
      "execution_count": null,
      "outputs": [
        {
          "output_type": "stream",
          "name": "stdout",
          "text": [
            "Enter a string: Helloworld\n",
            "Count of consonants:  7\n"
          ]
        }
      ]
    },
    {
      "cell_type": "code",
      "source": [
        "#7. Remove all whitespaces from a string.\n",
        "txt = input(\"Enter a string: \")\n",
        "new_txt = ''.join(txt.split())\n",
        "print(\"String after removing the whitespace: \", new_txt)"
      ],
      "metadata": {
        "colab": {
          "base_uri": "https://localhost:8080/"
        },
        "id": "0Scpu5s3HJ7l",
        "outputId": "78437cdc-2dda-4b34-9ce2-ce7d6230c410"
      },
      "execution_count": null,
      "outputs": [
        {
          "output_type": "stream",
          "name": "stdout",
          "text": [
            "Enter a string: h e l l o\n",
            "String after removing the whitespace:  hello\n"
          ]
        }
      ]
    },
    {
      "cell_type": "code",
      "source": [
        "#8. Find the length of a string without using the `len()` function.\n",
        "txt = input(\"Enter a string: \")\n",
        "count=0\n",
        "for char in txt:\n",
        "  if char == \" \":\n",
        "    continue\n",
        "  count+=1\n",
        "print(\"Length of the string: \",count)"
      ],
      "metadata": {
        "colab": {
          "base_uri": "https://localhost:8080/"
        },
        "id": "aEr6c9hwHT9d",
        "outputId": "b9c2372c-846e-4331-aa59-9ea59ef13392"
      },
      "execution_count": null,
      "outputs": [
        {
          "output_type": "stream",
          "name": "stdout",
          "text": [
            "Enter a string: hi\n",
            "Length of the string:  2\n"
          ]
        }
      ]
    },
    {
      "cell_type": "code",
      "source": [
        "#9. Check if a string contains a specific word.\n",
        "txt = input(\"Enter a string: \")\n",
        "search = input(\"Enter the world to search: \")\n",
        "word = txt.split()\n",
        "if search in  word:\n",
        "  print(\"The word is present in the string\")\n",
        "else:\n",
        "  print(\"The word is not present in the string\")"
      ],
      "metadata": {
        "colab": {
          "base_uri": "https://localhost:8080/"
        },
        "id": "CJNpB7QdHfKa",
        "outputId": "721a4b1c-01e5-4084-fe11-f1bf48803e00"
      },
      "execution_count": null,
      "outputs": [
        {
          "output_type": "stream",
          "name": "stdout",
          "text": [
            "Enter a string: hi hello world\n",
            "Enter the world to search: world\n",
            "The word is present in the string\n"
          ]
        }
      ]
    },
    {
      "cell_type": "code",
      "source": [
        "#10. Replace a word in a string with another word.\n",
        "txt = input(\"Enter a string: \")\n",
        "replace_txt = input(\"Enter a word to be replaced: \")\n",
        "new_txt = txt.replace(replace_txt,\"Hello\")\n",
        "print(\"String after replacing: \", new_txt)"
      ],
      "metadata": {
        "colab": {
          "base_uri": "https://localhost:8080/"
        },
        "id": "yw9WSEMDHq6S",
        "outputId": "0e09d60d-6d36-4ec5-f48e-515fff96532d"
      },
      "execution_count": null,
      "outputs": [
        {
          "output_type": "stream",
          "name": "stdout",
          "text": [
            "Enter a string: hi world\n",
            "Enter a word to be replaced: hi\n",
            "String after replacing:  Hello world\n"
          ]
        }
      ]
    },
    {
      "cell_type": "code",
      "source": [
        "#11. Count the occurrences of a word in a string.\n",
        "txt = input(\"Enter a string: \")\n",
        "search = input(\"Enter the word need to check: \")\n",
        "words = txt.split()\n",
        "count=0\n",
        "for word in words:\n",
        "  if word.lower() == search:\n",
        "    count+=1\n",
        "print(\"Count of occurence of the word: \",count)"
      ],
      "metadata": {
        "colab": {
          "base_uri": "https://localhost:8080/"
        },
        "id": "_KVXQimGH-LW",
        "outputId": "0729ee37-8e23-40c0-a6f3-be302b8da6ad"
      },
      "execution_count": null,
      "outputs": [
        {
          "output_type": "stream",
          "name": "stdout",
          "text": [
            "Enter a string: hi hi hello\n",
            "Enter the word need to check: hi\n",
            "Count of occurence of the word:  2\n"
          ]
        }
      ]
    },
    {
      "cell_type": "code",
      "source": [
        "#12. Find the first occurrence of a word in a string.\n",
        "txt = input(\"Enter a string: \")\n",
        "word = input(\"Enter the word to be check: \")\n",
        "index = txt.find(word)\n",
        "if index != -1:\n",
        "  print(f\"The first occurence of the word '{word}'is at: '{index}' \")"
      ],
      "metadata": {
        "colab": {
          "base_uri": "https://localhost:8080/"
        },
        "id": "hkCkXrcMIPpi",
        "outputId": "490ae19f-bac7-421b-97c0-ee4de131d568"
      },
      "execution_count": null,
      "outputs": [
        {
          "output_type": "stream",
          "name": "stdout",
          "text": [
            "Enter a string: hi hello world\n",
            "Enter the word to be check: hello\n",
            "The first occurence of the word 'hello'is at: '3' \n"
          ]
        }
      ]
    },
    {
      "cell_type": "code",
      "source": [
        "#13. Find the last occurrence of a word in a string.\n",
        "txt = input(\"Enter a string: \")\n",
        "word = input(\"Enter the word to be check: \")\n",
        "index = txt.rfind(word)\n",
        "if index != -1:\n",
        "  print(f\"The first occurence of the word '{word}'is at: '{index}' \")"
      ],
      "metadata": {
        "colab": {
          "base_uri": "https://localhost:8080/"
        },
        "id": "SLG6ZuyzIq9i",
        "outputId": "f7b002d1-1e81-4b06-dcde-b457a5758233"
      },
      "execution_count": null,
      "outputs": [
        {
          "output_type": "stream",
          "name": "stdout",
          "text": [
            "Enter a string: hi hello hi\n",
            "Enter the word to be check: hi\n",
            "The first occurence of the word 'hi'is at: '9' \n"
          ]
        }
      ]
    },
    {
      "cell_type": "code",
      "source": [
        "#17. Check if a string starts with a specific word or phrase.\n",
        "txt = input(\"Enter a string: \")\n",
        "word = input(\"Enter the word to be check: \")\n",
        "if txt.startswith(word):\n",
        "    print(f\"The string starts with '{word}'\")\n",
        "else:\n",
        "    print(f\"The string does not start with '{word}'\")"
      ],
      "metadata": {
        "colab": {
          "base_uri": "https://localhost:8080/"
        },
        "id": "tVuP54dQI2Qc",
        "outputId": "9244ac87-ede9-4a82-f27b-6c37b4ccc741"
      },
      "execution_count": null,
      "outputs": [
        {
          "output_type": "stream",
          "name": "stdout",
          "text": [
            "Enter a string: hello world\n",
            "Enter the word to be check: hello\n",
            "The string starts with 'hello'\n"
          ]
        }
      ]
    },
    {
      "cell_type": "code",
      "source": [
        "#18. Check if a string ends with a specific word or phrase.\n",
        "txt = input(\"Enter a string: \")\n",
        "word = input(\"Enter the word to be check: \")\n",
        "if txt.endswith(word):\n",
        "    print(f\"The string ends with '{word}'\")\n",
        "else:\n",
        "    print(f\"The string does not end with '{word}'\")"
      ],
      "metadata": {
        "colab": {
          "base_uri": "https://localhost:8080/"
        },
        "id": "gBVYiThAJBfi",
        "outputId": "0032ed30-61f2-4141-a414-db468c118037"
      },
      "execution_count": null,
      "outputs": [
        {
          "output_type": "stream",
          "name": "stdout",
          "text": [
            "Enter a string: hello hi\n",
            "Enter the word to be check: hi\n",
            "The string ends with 'hi'\n"
          ]
        }
      ]
    },
    {
      "cell_type": "code",
      "source": [
        "#19. Convert a string to title case (e.g., \"hello world\" to \"Hello World\").\n",
        "txt = input(\"Enter a string: \")\n",
        "print(\"string in Ttilecase: \",txt.title())\n"
      ],
      "metadata": {
        "colab": {
          "base_uri": "https://localhost:8080/"
        },
        "id": "eaibAqQxJKoi",
        "outputId": "15dd16ca-79c8-468e-817a-9ba9cb81a0ad"
      },
      "execution_count": null,
      "outputs": [
        {
          "output_type": "stream",
          "name": "stdout",
          "text": [
            "Enter a string: hello world\n",
            "string in Ttilecase:  Hello World\n"
          ]
        }
      ]
    },
    {
      "cell_type": "code",
      "source": [
        "#20. Find the longest word in a string.\n",
        "txt = input(\"Enter a string: \")\n",
        "words = txt.split()\n",
        "long_word = \"\"\n",
        "for word in words:\n",
        "  if len(word) > len(long_word):\n",
        "    long_word = word\n",
        "print(\"Longest word: \",long_word)\n"
      ],
      "metadata": {
        "colab": {
          "base_uri": "https://localhost:8080/"
        },
        "id": "q_E8xwZ4JULN",
        "outputId": "5ff44fab-5e44-432f-9494-5294f30e43c8"
      },
      "execution_count": null,
      "outputs": [
        {
          "output_type": "stream",
          "name": "stdout",
          "text": [
            "Enter a string: hello hi\n",
            "Longest word:  hello\n"
          ]
        }
      ]
    },
    {
      "cell_type": "code",
      "source": [
        "#21. Find the shortest word in a string.\n",
        "txt = input(\"Enter a string: \")\n",
        "words = txt.split()\n",
        "short_word = min(words, key=len)\n",
        "print(\"Shortest word: \",short_word)"
      ],
      "metadata": {
        "colab": {
          "base_uri": "https://localhost:8080/"
        },
        "id": "9BtcX1FPJbWZ",
        "outputId": "db22b85a-68e2-4fd1-ba91-cfcef677cdfd"
      },
      "execution_count": null,
      "outputs": [
        {
          "output_type": "stream",
          "name": "stdout",
          "text": [
            "Enter a string: hi hello\n",
            "Shortest word:  hi\n"
          ]
        }
      ]
    },
    {
      "cell_type": "code",
      "source": [
        "#22. Reverse the order of words in a string.\n",
        "txt = input(\"Enter a string: \")\n",
        "words = txt.split()\n",
        "rev_words = words[::-1]\n",
        "rev_txt = ' '.join(rev_words)\n",
        "print(\"String in reversed order: \", rev_txt)"
      ],
      "metadata": {
        "colab": {
          "base_uri": "https://localhost:8080/"
        },
        "id": "J3J-Qt2-JjxO",
        "outputId": "418b98bc-d86e-476b-c9be-d48b53dcc928"
      },
      "execution_count": null,
      "outputs": [
        {
          "output_type": "stream",
          "name": "stdout",
          "text": [
            "Enter a string: world hello\n",
            "String in reversed order:  hello world\n"
          ]
        }
      ]
    },
    {
      "cell_type": "code",
      "source": [
        "#23. Check if a string is alphanumeric.\n",
        "txt = input(\"Enter a string: \")\n",
        "if txt.isalnum():\n",
        "    print(\"The string is Alphanumeric\")\n",
        "else:\n",
        "    print(\"The string is not Alphanumeric\")"
      ],
      "metadata": {
        "colab": {
          "base_uri": "https://localhost:8080/"
        },
        "id": "SQKTy3lFJtU1",
        "outputId": "08793c22-be9a-4951-9f2a-858fbc6d957c"
      },
      "execution_count": null,
      "outputs": [
        {
          "output_type": "stream",
          "name": "stdout",
          "text": [
            "Enter a string: hi2\n",
            "The string is Alphanumeric\n"
          ]
        }
      ]
    },
    {
      "cell_type": "code",
      "source": [
        "#25. Extract all alphabets from a string.\n",
        "txt = input(\"Enter a string: \")\n",
        "alpha = \"\"\n",
        "for char in txt:\n",
        "  if char.isalpha():\n",
        "    alpha += char\n",
        "print(\"Digits in the string: \",alpha)\n"
      ],
      "metadata": {
        "colab": {
          "base_uri": "https://localhost:8080/"
        },
        "id": "nR8OrZ1JJx89",
        "outputId": "1f8560dc-e485-45bf-c381-19809d8a2438"
      },
      "execution_count": null,
      "outputs": [
        {
          "output_type": "stream",
          "name": "stdout",
          "text": [
            "Enter a string: hello23world\n",
            "Digits in the string:  helloworld\n"
          ]
        }
      ]
    }
  ]
}