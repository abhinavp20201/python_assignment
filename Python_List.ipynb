{
  "nbformat": 4,
  "nbformat_minor": 0,
  "metadata": {
    "colab": {
      "provenance": [],
      "authorship_tag": "ABX9TyOe7ccBKgrFXAzDS8jKac5D",
      "include_colab_link": true
    },
    "kernelspec": {
      "name": "python3",
      "display_name": "Python 3"
    },
    "language_info": {
      "name": "python"
    }
  },
  "cells": [
    {
      "cell_type": "markdown",
      "metadata": {
        "id": "view-in-github",
        "colab_type": "text"
      },
      "source": [
        "<a href=\"https://colab.research.google.com/github/abhinavp20201/python_assignment/blob/main/Python_List.ipynb\" target=\"_parent\"><img src=\"https://colab.research.google.com/assets/colab-badge.svg\" alt=\"Open In Colab\"/></a>"
      ]
    },
    {
      "cell_type": "code",
      "execution_count": null,
      "metadata": {
        "colab": {
          "base_uri": "https://localhost:8080/"
        },
        "id": "9NUHM9-VKKD8",
        "outputId": "4839a82f-5f05-4a9c-a12c-9d503fdd0235"
      },
      "outputs": [
        {
          "output_type": "stream",
          "name": "stdout",
          "text": [
            "[1, 2, 3, 4, 5, 6, 7, 8, 9, 10]\n"
          ]
        }
      ],
      "source": [
        "#1. Create a list with integers from 1 to 10.\n",
        "ls = []\n",
        "for i in range(1,11):\n",
        "  ls.append(i)\n",
        "print(ls)"
      ]
    },
    {
      "cell_type": "code",
      "source": [
        "#2. Find the length of a list without using the `len()` function.\n",
        "ls = [\"hi\",\"hello\",\"world\"]\n",
        "count = 0\n",
        "for i in ls:\n",
        "  count+=1\n",
        "print(\"Length of list: \",count)"
      ],
      "metadata": {
        "colab": {
          "base_uri": "https://localhost:8080/"
        },
        "id": "70JSlnQEKazy",
        "outputId": "2dcad66a-b5f3-43ae-9c73-adb98b40dac1"
      },
      "execution_count": null,
      "outputs": [
        {
          "output_type": "stream",
          "name": "stdout",
          "text": [
            "Length of list:  3\n"
          ]
        }
      ]
    },
    {
      "cell_type": "code",
      "source": [
        "#3. Append an element to the end of a list.\n",
        "ls = [\"hi\",\"hello\",\"world\"]\n",
        "print(\"list: \", ls)\n",
        "ls.append(\"world\")\n",
        "print(\"List after appending: \",ls)"
      ],
      "metadata": {
        "colab": {
          "base_uri": "https://localhost:8080/"
        },
        "id": "oZq6bJJ5KkKq",
        "outputId": "c6c40972-1937-4efb-b2fd-a7924e1aba20"
      },
      "execution_count": null,
      "outputs": [
        {
          "output_type": "stream",
          "name": "stdout",
          "text": [
            "list:  ['hi', 'hello', 'world']\n",
            "List after appending:  ['hi', 'hello', 'world', 'world']\n"
          ]
        }
      ]
    },
    {
      "cell_type": "code",
      "source": [],
      "metadata": {
        "id": "Qr6V8klaKzLF"
      },
      "execution_count": null,
      "outputs": []
    },
    {
      "cell_type": "code",
      "source": [
        "#4. Insert an element at a specific index in a list.:\n",
        "print(\"list: \", ls)\n",
        "ls.insert(2,\"hi\")\n",
        "print(\"List after appending: \",ls)"
      ],
      "metadata": {
        "colab": {
          "base_uri": "https://localhost:8080/"
        },
        "id": "AQsOKUUeKzRz",
        "outputId": "4abe9dfa-b77e-4ebc-c72e-6e61003332d9"
      },
      "execution_count": null,
      "outputs": [
        {
          "output_type": "stream",
          "name": "stdout",
          "text": [
            "list:  ['hi', 'hello', 'world', 'world']\n",
            "List after appending:  ['hi', 'hello', 'hi', 'world', 'world']\n"
          ]
        }
      ]
    },
    {
      "cell_type": "code",
      "source": [
        "#5. Remove an element from a list by its value.\n",
        "print(\"list: \", ls)\n",
        "ls.remove(\"hello\")\n",
        "print(\"List after appending: \",ls)"
      ],
      "metadata": {
        "colab": {
          "base_uri": "https://localhost:8080/"
        },
        "id": "Ye7rtkxSLNob",
        "outputId": "ad59cbe4-a6ba-448b-c791-f6dc507d6685"
      },
      "execution_count": null,
      "outputs": [
        {
          "output_type": "stream",
          "name": "stdout",
          "text": [
            "list:  ['hi', 'hello', 'hi', 'world', 'world']\n",
            "List after appending:  ['hi', 'hi', 'world', 'world']\n"
          ]
        }
      ]
    },
    {
      "cell_type": "code",
      "source": [
        "#6. Remove an element from a list by its index.\n",
        "print(\"list: \", ls)\n",
        "ls.pop(3)\n",
        "print(\"List after appending: \",ls)"
      ],
      "metadata": {
        "colab": {
          "base_uri": "https://localhost:8080/"
        },
        "id": "7zoj61AULzJe",
        "outputId": "6cc69e2b-5ad5-4b4a-f999-ea4dc84a9953"
      },
      "execution_count": null,
      "outputs": [
        {
          "output_type": "stream",
          "name": "stdout",
          "text": [
            "list:  ['hi', 'hi', 'world', 'world']\n",
            "List after appending:  ['hi', 'hi', 'world']\n"
          ]
        }
      ]
    },
    {
      "cell_type": "code",
      "source": [
        "#7. Check if an element exists in a list.\n",
        "search = input(\"Enter the element to search: \")\n",
        "if search in ls :\n",
        "  print(\"Element is present in the list\")\n",
        "else:\n",
        "  print(\"Element is not present in the list\")"
      ],
      "metadata": {
        "colab": {
          "base_uri": "https://localhost:8080/"
        },
        "id": "Drb4ItCML9U4",
        "outputId": "013df089-e84b-4ad5-9111-6cafb4135923"
      },
      "execution_count": null,
      "outputs": [
        {
          "output_type": "stream",
          "name": "stdout",
          "text": [
            "Enter the element to search: world\n",
            "Element is present in the list\n"
          ]
        }
      ]
    },
    {
      "cell_type": "code",
      "source": [
        "#8. Fin,d the index of the first occurrence of an element in a list.\n",
        "ls = [5,6,9,8,4,23,5]\n",
        "print(\"List: \",ls)\n",
        "element = int(input(\"Enter the element need to check: \"))\n",
        "occurence = ls.index(element)\n",
        "print(f\"first occurence of the '{element}': \",occurence)"
      ],
      "metadata": {
        "id": "sAMRADe_Lp8x",
        "colab": {
          "base_uri": "https://localhost:8080/"
        },
        "outputId": "8df5c64b-7564-4a6e-a8d8-7af80f6a88fd"
      },
      "execution_count": null,
      "outputs": [
        {
          "output_type": "stream",
          "name": "stdout",
          "text": [
            "List:  [5, 6, 9, 8, 4, 23, 5]\n",
            "Enter the element need to check: 23\n",
            "first occurence of the '23':  5\n"
          ]
        }
      ]
    },
    {
      "cell_type": "code",
      "source": [
        "#9. Count the occurrences of an element in a list.\n",
        "print(\"List: \",ls)\n",
        "element = int(input(\"Enter the element need to check: \"))\n",
        "occurence = ls.count(element)\n",
        "print(\"Count of occurrence of '{element}': \",occurence)"
      ],
      "metadata": {
        "colab": {
          "base_uri": "https://localhost:8080/"
        },
        "id": "8NbtMP04SRQ8",
        "outputId": "94f864d1-9032-4b4f-9a66-a2bce60daaaf"
      },
      "execution_count": null,
      "outputs": [
        {
          "output_type": "stream",
          "name": "stdout",
          "text": [
            "List:  [5, 6, 9, 8, 4, 23, 5]\n",
            "Enter the element need to check: 5\n",
            "Count of occurrence of '{element}':  2\n"
          ]
        }
      ]
    },
    {
      "cell_type": "code",
      "source": [
        "#10. Reverse the order of elements in a list.\n",
        "print(\"List: \",ls)\n",
        "rev = ls[::-1]\n",
        "print(\"List in reverse order: \",rev)"
      ],
      "metadata": {
        "colab": {
          "base_uri": "https://localhost:8080/"
        },
        "id": "BeHErHZIScnf",
        "outputId": "6bf1f4cf-f975-4a82-9b36-9b11541ad2cb"
      },
      "execution_count": null,
      "outputs": [
        {
          "output_type": "stream",
          "name": "stdout",
          "text": [
            "List:  [6, 9, 2, 1, 4, 3, 8, 5]\n",
            "List in reverse order:  [5, 8, 3, 4, 1, 2, 9, 6]\n"
          ]
        }
      ]
    },
    {
      "cell_type": "code",
      "source": [
        "#11. Sort a list in ascending order.\n",
        "ls = [6,9,2,1,4,3,8,5]\n",
        "print(\"List: \",ls)\n",
        "asc_ls = sorted(ls)\n",
        "print(\"List in ascending order: \",asc_ls)"
      ],
      "metadata": {
        "colab": {
          "base_uri": "https://localhost:8080/"
        },
        "id": "hoS_QDyRS3v7",
        "outputId": "26b638f5-96cc-4209-85ee-82321fdbb91c"
      },
      "execution_count": null,
      "outputs": [
        {
          "output_type": "stream",
          "name": "stdout",
          "text": [
            "List:  [6, 9, 2, 1, 4, 3, 8, 5]\n",
            "List in ascending order:  [1, 2, 3, 4, 5, 6, 8, 9]\n"
          ]
        }
      ]
    },
    {
      "cell_type": "code",
      "source": [
        "#12. Sort a list in descending order.\n",
        "ls = [5,2,9,1,5]\n",
        "print(\"List: \",ls)\n",
        "desc_ls = sorted(ls,reverse=True)\n",
        "print(\"List in descending order: \",desc_ls)"
      ],
      "metadata": {
        "colab": {
          "base_uri": "https://localhost:8080/"
        },
        "id": "DzzCXWQLTBEh",
        "outputId": "a48324d7-8467-4efa-ba3c-c14f2e188f6e"
      },
      "execution_count": null,
      "outputs": [
        {
          "output_type": "stream",
          "name": "stdout",
          "text": [
            "List:  [5, 2, 9, 1, 5]\n",
            "List in descending order:  [9, 5, 5, 2, 1]\n"
          ]
        }
      ]
    },
    {
      "cell_type": "code",
      "source": [
        "#13. Create a list of even numbers from 1 to 20.\n",
        "ls = []\n",
        "print(\"List of even number from 1 to 20: \")\n",
        "for i in range(2,21,2):\n",
        "  ls.append(i)\n",
        "print(ls)"
      ],
      "metadata": {
        "colab": {
          "base_uri": "https://localhost:8080/"
        },
        "id": "G4IDxQWqTNI9",
        "outputId": "b7b2f7d1-3d46-4d04-8323-b64a95bb25bd"
      },
      "execution_count": null,
      "outputs": [
        {
          "output_type": "stream",
          "name": "stdout",
          "text": [
            "List of even number from 1 to 20: \n",
            "[2, 4, 6, 8, 10, 12, 14, 16, 18, 20]\n"
          ]
        }
      ]
    },
    {
      "cell_type": "code",
      "source": [
        "#14. Create a list of odd numbers from 1 to 20.\n",
        "ls = []\n",
        "print(\"List of odd number from 1 to 20: \")\n",
        "for i in range(1,20,2):\n",
        "  ls.append(i)\n",
        "print(ls)"
      ],
      "metadata": {
        "colab": {
          "base_uri": "https://localhost:8080/"
        },
        "id": "zEPkDS4_TRNl",
        "outputId": "eb42c8e9-9a12-49ee-8b6d-700bf15b4fd4"
      },
      "execution_count": null,
      "outputs": [
        {
          "output_type": "stream",
          "name": "stdout",
          "text": [
            "List of odd number from 1 to 20: \n",
            "[1, 3, 5, 7, 9, 11, 13, 15, 17, 19]\n"
          ]
        }
      ]
    },
    {
      "cell_type": "code",
      "source": [
        "#15. Find the sum of all elements in a list.\n",
        "print(\"List: \",ls)\n",
        "sum = 0\n",
        "for i in ls:\n",
        "  sum+=i\n",
        "print(\"Sum: \",sum)"
      ],
      "metadata": {
        "colab": {
          "base_uri": "https://localhost:8080/"
        },
        "id": "ON6PEDmFTXh5",
        "outputId": "e9bf8d5d-7c57-4650-cf90-ecf7d0ef2ee8"
      },
      "execution_count": null,
      "outputs": [
        {
          "output_type": "stream",
          "name": "stdout",
          "text": [
            "List:  [1, 3, 5, 7, 9, 11, 13, 15, 17, 19]\n",
            "Sum:  100\n"
          ]
        }
      ]
    },
    {
      "cell_type": "code",
      "source": [
        "#16. Find the maximum value in a list.\n",
        "print(\"List: \",ls)\n",
        "value = max(ls)\n",
        "print(\"Maximum value: \",value)"
      ],
      "metadata": {
        "colab": {
          "base_uri": "https://localhost:8080/"
        },
        "id": "OBtuB932TfCx",
        "outputId": "7db57dd3-f161-4728-8e7c-5044215cb5a2"
      },
      "execution_count": null,
      "outputs": [
        {
          "output_type": "stream",
          "name": "stdout",
          "text": [
            "List:  [1, 3, 5, 7, 9, 11, 13, 15, 17, 19]\n",
            "Maximum value:  19\n"
          ]
        }
      ]
    },
    {
      "cell_type": "code",
      "source": [
        "#17. Find the minimum value in a list.\n",
        "print(\"List: \",ls)\n",
        "value = min(ls)\n",
        "print(\"Minimum value: \",value)"
      ],
      "metadata": {
        "colab": {
          "base_uri": "https://localhost:8080/"
        },
        "id": "JahpOA40TlGo",
        "outputId": "1488dcda-ce36-4d7c-ba2a-7a85a9c5c280"
      },
      "execution_count": null,
      "outputs": [
        {
          "output_type": "stream",
          "name": "stdout",
          "text": [
            "List:  [1, 3, 5, 7, 9, 11, 13, 15, 17, 19]\n",
            "Minimum value:  1\n"
          ]
        }
      ]
    },
    {
      "cell_type": "code",
      "source": [
        "#18. Create a list of squares of numbers from 1 to 10.\n",
        "ls = []\n",
        "print(\"List of square of number from 1 to 10: \")\n",
        "for i in range(1,11):\n",
        "  ls.append(i*i)\n",
        "print(ls)"
      ],
      "metadata": {
        "colab": {
          "base_uri": "https://localhost:8080/"
        },
        "id": "1vDNJyLVTq11",
        "outputId": "6f43bf86-3e16-47f5-e5fa-9e29699bcd4d"
      },
      "execution_count": null,
      "outputs": [
        {
          "output_type": "stream",
          "name": "stdout",
          "text": [
            "List of square of number from 1 to 10: \n",
            "[1, 4, 9, 16, 25, 36, 49, 64, 81, 100]\n"
          ]
        }
      ]
    },
    {
      "cell_type": "code",
      "source": [
        "#19. Create a list of random numbers.\n",
        "import random\n",
        "ls = []\n",
        "print(\"List of randum numbers: \")\n",
        "for i in range(5):\n",
        "  num = random.randint(1,100)\n",
        "  ls.append(num)\n",
        "print(ls)"
      ],
      "metadata": {
        "colab": {
          "base_uri": "https://localhost:8080/"
        },
        "id": "8OEkZ3Z9TugW",
        "outputId": "6a7fbfaa-ade7-4fb9-f53f-fd4708ec82f7"
      },
      "execution_count": null,
      "outputs": [
        {
          "output_type": "stream",
          "name": "stdout",
          "text": [
            "List of randum numbers: \n",
            "[79, 83, 14, 63, 10]\n"
          ]
        }
      ]
    },
    {
      "cell_type": "code",
      "source": [
        "#20. Remove duplicates from a list.\n",
        "ls = [10,20,30,20,5,6,8]\n",
        "print(\"List: \",ls)\n",
        "newls = []\n",
        "for i in ls:\n",
        "  if i not in newls:\n",
        "    newls.append(i)\n",
        "print(\"List after removing the dublicates: \",newls)"
      ],
      "metadata": {
        "colab": {
          "base_uri": "https://localhost:8080/"
        },
        "id": "iUfNyulkT1N5",
        "outputId": "a3d42d12-08cb-4280-8bfe-d5ab21f9308f"
      },
      "execution_count": null,
      "outputs": [
        {
          "output_type": "stream",
          "name": "stdout",
          "text": [
            "List:  [10, 20, 30, 20, 5, 6, 8]\n",
            "List after removing the dublicates:  [10, 20, 30, 5, 6, 8]\n"
          ]
        }
      ]
    },
    {
      "cell_type": "code",
      "source": [
        "#21. Find the common elements between two lists.\n",
        "ls1 = [2,3,5,7,2,3,8,1,9,1,7,9,2]\n",
        "ls2 = [1,2,4,6,9,0,3,11,34]\n",
        "newls = list(set(ls1).intersection(ls2))\n",
        "print(\"List1: \",ls1)\n",
        "print(\"List2: \",ls2)\n",
        "print(\"Common elements: \",newls)"
      ],
      "metadata": {
        "colab": {
          "base_uri": "https://localhost:8080/"
        },
        "id": "nUoJlse7UCy-",
        "outputId": "69a7a723-08f1-41b6-8e99-ba5cd5668642"
      },
      "execution_count": null,
      "outputs": [
        {
          "output_type": "stream",
          "name": "stdout",
          "text": [
            "List1:  [2, 3, 5, 7, 2, 3, 8, 1, 9, 1, 7, 9, 2]\n",
            "List2:  [1, 2, 4, 6, 9, 0, 3, 11, 34]\n",
            "Common elements:  [1, 2, 3, 9]\n"
          ]
        }
      ]
    },
    {
      "cell_type": "code",
      "source": [
        "#22. Find the difference between two lists.]\n",
        "newls = list(set(ls1).difference(ls2))\n",
        "print(\"List1: \",ls1)\n",
        "print(\"List2: \",ls2)\n",
        "print(\"different elements: \",newls)"
      ],
      "metadata": {
        "colab": {
          "base_uri": "https://localhost:8080/"
        },
        "id": "4NZZYf15UHcH",
        "outputId": "5f6557cc-5141-4678-b933-652cff8a3a6b"
      },
      "execution_count": null,
      "outputs": [
        {
          "output_type": "stream",
          "name": "stdout",
          "text": [
            "List1:  [2, 3, 5, 7, 2, 3, 8, 1, 9, 1, 7, 9, 2]\n",
            "List2:  [1, 2, 4, 6, 9, 0, 3, 11, 34]\n",
            "different elements:  [5, 7, 8]\n"
          ]
        }
      ]
    },
    {
      "cell_type": "code",
      "source": [
        "#23. Merge two lists.\n",
        "newls = ls1 + ls2\n",
        "print(\"List1: \",ls1)\n",
        "print(\"List2: \",ls2)\n",
        "print(\"merge list: \",newls)"
      ],
      "metadata": {
        "colab": {
          "base_uri": "https://localhost:8080/"
        },
        "id": "49EawT2YUOk5",
        "outputId": "3d32ad12-6a5d-42ca-c6c7-28e7de620880"
      },
      "execution_count": null,
      "outputs": [
        {
          "output_type": "stream",
          "name": "stdout",
          "text": [
            "List1:  [2, 3, 5, 7, 2, 3, 8, 1, 9, 1, 7, 9, 2]\n",
            "List2:  [1, 2, 4, 6, 9, 0, 3, 11, 34]\n",
            "merge list:  [2, 3, 5, 7, 2, 3, 8, 1, 9, 1, 7, 9, 2, 1, 2, 4, 6, 9, 0, 3, 11, 34]\n"
          ]
        }
      ]
    },
    {
      "cell_type": "code",
      "source": [
        "#24. Multiply all elements in a list by 2.\n",
        "ls = [2, 3, 5, 7, 8, 1, 9, 1]\n",
        "doubled_list = []\n",
        "\n",
        "print(\"List:\", ls)\n",
        "print(\"List multiplied by 2:\")\n",
        "\n",
        "for i in ls:\n",
        "    doubled_value = i * 2\n",
        "    doubled_list.append(doubled_value)\n",
        "\n",
        "print(\"Doubled list:\", doubled_list)"
      ],
      "metadata": {
        "colab": {
          "base_uri": "https://localhost:8080/"
        },
        "id": "jwVJKwrwUSzW",
        "outputId": "dddc9b97-14cd-40c6-8ef3-ffba9a4b71c4"
      },
      "execution_count": null,
      "outputs": [
        {
          "output_type": "stream",
          "name": "stdout",
          "text": [
            "List: [2, 3, 5, 7, 8, 1, 9, 1]\n",
            "List multiplied by 2:\n",
            "Doubled list: [4, 6, 10, 14, 16, 2, 18, 2]\n"
          ]
        }
      ]
    },
    {
      "cell_type": "code",
      "source": [
        "#25. Filter out all even numbers from a list.\n",
        "print(\"List: \",ls)\n",
        "newls = []\n",
        "for i in ls:\n",
        "  if i%2 != 0:\n",
        "    newls.append(i)\n",
        "print(\"List after removing even numbers: \",newls)"
      ],
      "metadata": {
        "colab": {
          "base_uri": "https://localhost:8080/"
        },
        "id": "_ebxrevOUtia",
        "outputId": "929c665a-f46f-4e60-dc2a-f94ccbebe962"
      },
      "execution_count": null,
      "outputs": [
        {
          "output_type": "stream",
          "name": "stdout",
          "text": [
            "List:  [2, 3, 5, 7, 8, 1, 9, 1]\n",
            "List after removing even numbers:  [3, 5, 7, 1, 9, 1]\n"
          ]
        }
      ]
    }
  ]
}